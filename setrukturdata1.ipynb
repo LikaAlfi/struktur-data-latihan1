{
  "nbformat": 4,
  "nbformat_minor": 0,
  "metadata": {
    "colab": {
      "provenance": [],
      "authorship_tag": "ABX9TyPiUntSeHQzdLLJz3vBgYos",
      "include_colab_link": true
    },
    "kernelspec": {
      "name": "python3",
      "display_name": "Python 3"
    },
    "language_info": {
      "name": "python"
    }
  },
  "cells": [
    {
      "cell_type": "markdown",
      "metadata": {
        "id": "view-in-github",
        "colab_type": "text"
      },
      "source": [
        "<a href=\"https://colab.research.google.com/github/LikaAlfi/struktur-data-latihan1/blob/main/setrukturdata1.ipynb\" target=\"_parent\"><img src=\"https://colab.research.google.com/assets/colab-badge.svg\" alt=\"Open In Colab\"/></a>"
      ]
    },
    {
      "cell_type": "code",
      "execution_count": null,
      "metadata": {
        "colab": {
          "base_uri": "https://localhost:8080/"
        },
        "id": "xcJHxeiAEyVJ",
        "outputId": "06fe7203-ee95-43c9-fe9a-f9ad16597a37"
      },
      "outputs": [
        {
          "output_type": "stream",
          "name": "stdout",
          "text": [
            "Array dengan list: [10, 20, 30, 40, 50]\n"
          ]
        }
      ],
      "source": [
        "# Deklarasi array menggunakan list\n",
        "angka = [10, 20, 30, 40, 50]\n",
        "print (\"Array dengan list:\", angka)"
      ]
    },
    {
      "cell_type": "code",
      "source": [
        "import array\n",
        "angka = array.array('i', [10, 20, 30, 40, 50])\n",
        "print (\"Array dengan modul array:\", angka)"
      ],
      "metadata": {
        "colab": {
          "base_uri": "https://localhost:8080/"
        },
        "id": "-NB9PQ8WH0Vv",
        "outputId": "e2c9a7a0-1669-4906-9ffc-f5e3bdae9719"
      },
      "execution_count": null,
      "outputs": [
        {
          "output_type": "stream",
          "name": "stdout",
          "text": [
            "Array dengan modul array: array('i', [10, 20, 30, 40, 50])\n"
          ]
        }
      ]
    },
    {
      "cell_type": "code",
      "source": [
        "import numpy as np\n",
        "angka = np.array([10, 20, 30, 40, 50 ])\n",
        "print (\"Array dengan numpy:\", angka)"
      ],
      "metadata": {
        "colab": {
          "base_uri": "https://localhost:8080/"
        },
        "id": "QbX65GwIIcUP",
        "outputId": "1202f0d2-f074-44fd-b8c0-d978b01567a4"
      },
      "execution_count": 3,
      "outputs": [
        {
          "output_type": "stream",
          "name": "stdout",
          "text": [
            "Array dengan numpy: [10 20 30 40 50]\n"
          ]
        }
      ]
    },
    {
      "cell_type": "code",
      "source": [
        "import numpy as np\n",
        "angka = np.array([1, 2, 3, 4, 5])\n",
        "print (\"Array satu dimensi:\", angka)"
      ],
      "metadata": {
        "colab": {
          "base_uri": "https://localhost:8080/"
        },
        "id": "Tftrt9xfJcbw",
        "outputId": "8bb1e6d3-c20e-4e2b-c0f4-4388ff8d4c8d"
      },
      "execution_count": null,
      "outputs": [
        {
          "output_type": "stream",
          "name": "stdout",
          "text": [
            "Array satu dimensi: [1 2 3 4 5]\n"
          ]
        }
      ]
    },
    {
      "cell_type": "code",
      "source": [
        "matriks = np.array([[1, 2], [3, 4], [5, 6]])\n",
        "print (\"Array dua dimensi:\", matriks)"
      ],
      "metadata": {
        "colab": {
          "base_uri": "https://localhost:8080/"
        },
        "id": "AsaW1szoJ7GP",
        "outputId": "1abd6623-d2e5-404c-fb05-036c92d0d7d0"
      },
      "execution_count": null,
      "outputs": [
        {
          "output_type": "stream",
          "name": "stdout",
          "text": [
            "Array dua dimensi: [[1 2]\n",
            " [3 4]\n",
            " [5 6]]\n"
          ]
        }
      ]
    },
    {
      "cell_type": "code",
      "source": [
        "array3D = np.array([[[1, 2], [3, 4]], [[5, 6], [7, 8]]])\n",
        "print (\"Array tiga dimensi:\", array3D)"
      ],
      "metadata": {
        "colab": {
          "base_uri": "https://localhost:8080/"
        },
        "id": "sVwcW-RTKjEQ",
        "outputId": "bcc69ec0-6402-4e7b-e457-fc6b5cf0f8e3"
      },
      "execution_count": 4,
      "outputs": [
        {
          "output_type": "stream",
          "name": "stdout",
          "text": [
            "Array tiga dimensi: [[[1 2]\n",
            "  [3 4]]\n",
            "\n",
            " [[5 6]\n",
            "  [7 8]]]\n"
          ]
        }
      ]
    },
    {
      "cell_type": "code",
      "source": [
        "# Deklarasi array kosong\n",
        "angka = []\n",
        "\n",
        "# Instalisasi array dengan elemen\n",
        "angka = [10, 20, 30, 40, 50]\n",
        "\n",
        "# Akses elemen\n",
        "print (\"Elemen pertama:\", angka [0])\n",
        "print (\"Elemen terakhir:\", angka [-1])\n",
        "\n",
        "# menambhakan elemen baru\n",
        "angka.append(60)\n",
        "print (\"Setelah append:\", angka)\n",
        "\n",
        "# menghapus elemen\n",
        "angka.remove(30)\n",
        "print (\"Setelah remove:\", angka)\n",
        "\n",
        "# iterasi array\n",
        "for nilai in angka:\n",
        "    print (\"Nilai:\", nilai)"
      ],
      "metadata": {
        "colab": {
          "base_uri": "https://localhost:8080/"
        },
        "id": "pO_yMyvmKuwW",
        "outputId": "fc9efc59-e021-4096-ca65-febedbf4b699"
      },
      "execution_count": null,
      "outputs": [
        {
          "output_type": "stream",
          "name": "stdout",
          "text": [
            "Elemen pertama: 10\n",
            "Elemen terakhir: 50\n",
            "Setelah append: [10, 20, 30, 40, 50, 60]\n",
            "Setelah remove: [10, 20, 40, 50, 60]\n",
            "Nilai: 10\n",
            "Nilai: 20\n",
            "Nilai: 40\n",
            "Nilai: 50\n",
            "Nilai: 60\n"
          ]
        }
      ]
    },
    {
      "cell_type": "code",
      "source": [
        "print(\"Elemen pertama:\", angka [0])"
      ],
      "metadata": {
        "colab": {
          "base_uri": "https://localhost:8080/"
        },
        "id": "LoES-HZXMqln",
        "outputId": "36145c7b-1cb8-4a42-c464-2477444c899e"
      },
      "execution_count": null,
      "outputs": [
        {
          "output_type": "stream",
          "name": "stdout",
          "text": [
            "Elemen pertama: 10\n"
          ]
        }
      ]
    },
    {
      "cell_type": "code",
      "source": [
        "angak = np.append (angka, 60)\n",
        "print (\"Setelah penambahan:\", angka)"
      ],
      "metadata": {
        "colab": {
          "base_uri": "https://localhost:8080/"
        },
        "id": "GZeq4psmNC14",
        "outputId": "6315c2f3-910b-4ba2-980f-ee57190dd01a"
      },
      "execution_count": null,
      "outputs": [
        {
          "output_type": "stream",
          "name": "stdout",
          "text": [
            "Setelah penambahan: [10, 20, 40, 50, 60]\n"
          ]
        }
      ]
    },
    {
      "cell_type": "code",
      "source": [
        "angka = np.delete (angka, 2) # Menghapus elemen pada indeks ke-2\n",
        "print (\"Setelah penghapusan:\", angka)"
      ],
      "metadata": {
        "colab": {
          "base_uri": "https://localhost:8080/"
        },
        "id": "h1LNjbDXNuZ4",
        "outputId": "5be841ab-548e-478f-e392-1d4de7661033"
      },
      "execution_count": null,
      "outputs": [
        {
          "output_type": "stream",
          "name": "stdout",
          "text": [
            "Setelah penghapusan: [10 20 50 60]\n"
          ]
        }
      ]
    },
    {
      "cell_type": "code",
      "source": [
        "print (\"Jumlah elemen:\", len(angka))"
      ],
      "metadata": {
        "colab": {
          "base_uri": "https://localhost:8080/"
        },
        "id": "rnV2Q-AVN9mQ",
        "outputId": "efea16c2-9c7a-49ec-c0ca-eb0db7956654"
      },
      "execution_count": null,
      "outputs": [
        {
          "output_type": "stream",
          "name": "stdout",
          "text": [
            "Jumlah elemen: 4\n"
          ]
        }
      ]
    },
    {
      "cell_type": "code",
      "source": [
        "# Deklarasi array kosong\n",
        "data = []\n",
        "\n",
        "# Inisialisasi array dengan elemen\n",
        "angka = [10, 20, 30, 40, 50]\n",
        "\n",
        "# Menbampilkan isi array\n",
        "print(\"Isi array angka:\", angka)"
      ],
      "metadata": {
        "colab": {
          "base_uri": "https://localhost:8080/"
        },
        "id": "tj-hdV8OOzig",
        "outputId": "2e9fbeee-ea1e-4be7-d774-56c69e9344e6"
      },
      "execution_count": null,
      "outputs": [
        {
          "output_type": "stream",
          "name": "stdout",
          "text": [
            "Isi array angka: [10, 20, 30, 40, 50]\n"
          ]
        }
      ]
    },
    {
      "cell_type": "code",
      "source": [
        "# Latihan 1\n",
        "# Membuat array yang berisi NPM diikuti NPM sebelum atau sesudah\n",
        "\n",
        "# Deklarasi array kosong\n",
        "data = []\n",
        "\n",
        "# Inisialisasi array dengan elemen\n",
        "NPM = [2410506010, 2410506011, 2410506012, 2410506013, 2410506014]\n",
        "\n",
        "# Menampilkan isi array\n",
        "print(\"Isi array NPM:\", NPM)"
      ],
      "metadata": {
        "colab": {
          "base_uri": "https://localhost:8080/"
        },
        "id": "_aUv-HAHPeMA",
        "outputId": "bf6c07b5-fe09-4bcb-8d29-e75b46d328e5"
      },
      "execution_count": null,
      "outputs": [
        {
          "output_type": "stream",
          "name": "stdout",
          "text": [
            "Isi array NPM: [2410506010, 2410506011, 2410506012, 2410506013, 2410506014]\n"
          ]
        }
      ]
    },
    {
      "cell_type": "code",
      "source": [
        "# mengakses elemen array\n",
        "print(\"Elemen pertama:\", angka[0]) # elemen pertama\n",
        "print(\"Elemen terakhir:\", angka[-1]) # elemen terakhir"
      ],
      "metadata": {
        "colab": {
          "base_uri": "https://localhost:8080/"
        },
        "id": "N6cjS7DQRJeQ",
        "outputId": "a5390079-1430-4ed8-9de9-1eaa63fd34ec"
      },
      "execution_count": null,
      "outputs": [
        {
          "output_type": "stream",
          "name": "stdout",
          "text": [
            "Elemen pertama: 10\n",
            "Elemen terakhir: 50\n"
          ]
        }
      ]
    },
    {
      "cell_type": "code",
      "source": [
        "# menambah elemen menggunkan append()\n",
        "angka.append(60)\n",
        "print(\"Array setelah penambahan elemen:\", angka)\n",
        "\n",
        "# menambahkan elemen menggunkan insert()\n",
        "angka.insert(2, 25) # menyisikan 25 di indeks ke-2\n",
        "print(\"Array setelah penambahan elemen dengan insert:\", angka)"
      ],
      "metadata": {
        "colab": {
          "base_uri": "https://localhost:8080/"
        },
        "id": "D9YAPiOjSJVZ",
        "outputId": "8e3f86d3-ec15-4b2d-9cca-c83be1d74e03"
      },
      "execution_count": null,
      "outputs": [
        {
          "output_type": "stream",
          "name": "stdout",
          "text": [
            "Array setelah penambahan elemen: [10, 20, 30, 40, 50, 60]\n",
            "Array setelah penambahan elemen dengan insert: [10, 20, 25, 30, 40, 50, 60]\n"
          ]
        }
      ]
    },
    {
      "cell_type": "code",
      "source": [
        "# menghapus elemen menggunkan remove()\n",
        "angka.remove(25)\n",
        "print(\"Array setelah menghapus elemen 25:\", angka)\n",
        "\n",
        "#menghapus elemen menggunakan pop()\n",
        "angka.pop(2) # menghapus elemen pada indeks ke-2\n",
        "print(\"Array setelah menghapus elemen pada indeks ke 2:\", angka)"
      ],
      "metadata": {
        "colab": {
          "base_uri": "https://localhost:8080/"
        },
        "id": "a_rJoBXlTlH5",
        "outputId": "8070d91f-30be-4cef-d88c-f643030eaeea"
      },
      "execution_count": null,
      "outputs": [
        {
          "output_type": "stream",
          "name": "stdout",
          "text": [
            "Array setelah menghapus elemen 25: [10, 20, 30, 40, 50, 60]\n",
            "Array setelah menghapus elemen pada indeks ke 2: [10, 20, 40, 50, 60]\n"
          ]
        }
      ]
    },
    {
      "cell_type": "code",
      "source": [
        "# mengubah elemen pada indeks 0\n",
        "angka[0] = 100\n",
        "print(\"Array setelah mengubah elemen pertama:\", angka)"
      ],
      "metadata": {
        "colab": {
          "base_uri": "https://localhost:8080/"
        },
        "id": "fqlG8GwrVvDx",
        "outputId": "3c3bc376-7449-4355-eff4-58fa2969b7a0"
      },
      "execution_count": null,
      "outputs": [
        {
          "output_type": "stream",
          "name": "stdout",
          "text": [
            "Array setelah mengubah elemen pertama: [100, 20, 40, 50, 60]\n"
          ]
        }
      ]
    },
    {
      "cell_type": "code",
      "source": [
        "# Ltihan 2\n",
        "# menambahkan nilai NPM\n",
        "NPM[0] = 241050601011\n",
        "print(\"Array setelah mengubah elemen pada indeks 0:\", NPM)\n",
        "\n",
        "# Menghapus elemen pertama pada NPM\n",
        "NPM.pop(0)\n",
        "print(\"Array setelah menghapus elemen pertama:,\", NPM)"
      ],
      "metadata": {
        "colab": {
          "base_uri": "https://localhost:8080/"
        },
        "id": "rC3t1yMDWLIZ",
        "outputId": "04ce4c17-eaaf-42a9-dd89-9c44e0b8e210"
      },
      "execution_count": null,
      "outputs": [
        {
          "output_type": "stream",
          "name": "stdout",
          "text": [
            "Array setelah mengubah elemen pada indeks 0: [241050601011, 2410506011, 2410506012, 2410506013, 2410506014]\n",
            "Array setelah menghapus elemen pertama:, [2410506011, 2410506012, 2410506013, 2410506014]\n"
          ]
        }
      ]
    },
    {
      "cell_type": "code",
      "source": [
        "angka = [10, 20, 30, 40]\n",
        "\n",
        "for nilai in angka:\n",
        "  print(\"Nilai:\", nilai)"
      ],
      "metadata": {
        "colab": {
          "base_uri": "https://localhost:8080/"
        },
        "id": "vQ0RvFZvX2rb",
        "outputId": "b0cc47ff-920d-4c48-cfbe-992488d17782"
      },
      "execution_count": null,
      "outputs": [
        {
          "output_type": "stream",
          "name": "stdout",
          "text": [
            "Nilai: 10\n",
            "Nilai: 20\n",
            "Nilai: 30\n",
            "Nilai: 40\n"
          ]
        }
      ]
    },
    {
      "cell_type": "code",
      "source": [
        "# Latihan 3\n",
        "fakultas = ['FT', 'FE', 'FAPERTA', 'FISIP', 'FKIP']\n",
        "\n",
        "for nama in fakultas:\n",
        "  print(\"Fakultas:\", nama)"
      ],
      "metadata": {
        "colab": {
          "base_uri": "https://localhost:8080/"
        },
        "id": "31oHdiJrascN",
        "outputId": "c73a2b33-e4b0-4713-c476-252a631726fb"
      },
      "execution_count": null,
      "outputs": [
        {
          "output_type": "stream",
          "name": "stdout",
          "text": [
            "Fakultas: FT\n",
            "Fakultas: FE\n",
            "Fakultas: FAPERTA\n",
            "Fakultas: FISIP\n",
            "Fakultas: FKIP\n"
          ]
        }
      ]
    },
    {
      "cell_type": "code",
      "source": [
        "angka = [10, 20, 30, 40]\n",
        "\n",
        "print(\"Jumlah total:\", sum(angka))\n",
        "print(\"Nilai maksimum:\", max(angka))\n",
        "print(\"Nilai minimum:\", min(angka))"
      ],
      "metadata": {
        "colab": {
          "base_uri": "https://localhost:8080/"
        },
        "id": "r6VUCc1SbTUS",
        "outputId": "68f9bf8f-d1ce-4e4c-8286-d8c5b8189224"
      },
      "execution_count": null,
      "outputs": [
        {
          "output_type": "stream",
          "name": "stdout",
          "text": [
            "Jumlah total: 100\n",
            "Nilai maksimum: 40\n",
            "Nilai minimum: 10\n"
          ]
        }
      ]
    },
    {
      "cell_type": "code",
      "source": [
        "# latihan 4\n",
        "harga = [1000, 2000, 3000, 4000, 5000]\n",
        "\n",
        "print(\"Jumlah total:\", sum(harga))"
      ],
      "metadata": {
        "colab": {
          "base_uri": "https://localhost:8080/"
        },
        "id": "JptMOkBYbyCL",
        "outputId": "f18464fb-60ea-427d-b8be-df0689750bbf"
      },
      "execution_count": null,
      "outputs": [
        {
          "output_type": "stream",
          "name": "stdout",
          "text": [
            "Jumlah total: 15000\n"
          ]
        }
      ]
    },
    {
      "cell_type": "code",
      "source": [
        "# Deklarasi array 2D\n",
        "matriks = [\n",
        "    [1, 2, 3],\n",
        "    [4, 5, 6],\n",
        "    [7, 8, 9]\n",
        "]\n",
        "\n",
        "# menampilkan isi array 2D\n",
        "print(\"Isi array 2D:\")\n",
        "for baris in matriks:\n",
        "    print(baris)"
      ],
      "metadata": {
        "colab": {
          "base_uri": "https://localhost:8080/"
        },
        "id": "pZgzi74ocqUL",
        "outputId": "bbe08c4a-2efd-4fe9-fa94-ea22f91c33a8"
      },
      "execution_count": null,
      "outputs": [
        {
          "output_type": "stream",
          "name": "stdout",
          "text": [
            "Isi array 2D:\n",
            "[1, 2, 3]\n",
            "[4, 5, 6]\n",
            "[7, 8, 9]\n"
          ]
        }
      ]
    },
    {
      "cell_type": "code",
      "source": [
        "# latihan 5\n",
        "matriks1 = [\n",
        "    [1, 2, 3, 4],\n",
        "    [5, 6, 7, 8],\n",
        "    [9, 10, 11, 12]\n",
        "]\n",
        "\n",
        "print(\"Isi array 2D:\")\n",
        "for baris in matriks1:\n",
        "    print(baris)"
      ],
      "metadata": {
        "colab": {
          "base_uri": "https://localhost:8080/"
        },
        "id": "xrQ5_btvdCqb",
        "outputId": "72e2c755-18b8-4de3-bd3e-0d87effd6bdc"
      },
      "execution_count": null,
      "outputs": [
        {
          "output_type": "stream",
          "name": "stdout",
          "text": [
            "Isi array 2D:\n",
            "[1, 2, 3, 4]\n",
            "[5, 6, 7, 8]\n",
            "[9, 10, 11, 12]\n"
          ]
        }
      ]
    },
    {
      "cell_type": "code",
      "source": [
        "# mengakses elemen pada baris ke-1, kolom ke-2 (indeks [0][1])\n",
        "print(\"Elemen pada baris 1, kolom 2:\", matriks [0][1])\n",
        "\n",
        "# mengakses elemen terakhir (baris ke-3, kolom ke-3)\n",
        "print(\"Elemen terakhir:\", matriks [-1][-1])"
      ],
      "metadata": {
        "colab": {
          "base_uri": "https://localhost:8080/"
        },
        "id": "kXsmW9UHdjzb",
        "outputId": "d88bf12e-ad08-462e-f6d9-0e05f5c4a2ba"
      },
      "execution_count": null,
      "outputs": [
        {
          "output_type": "stream",
          "name": "stdout",
          "text": [
            "Elemen pada baris 1, kolom 2: 2\n",
            "Elemen terakhir: 9\n"
          ]
        }
      ]
    },
    {
      "cell_type": "code",
      "source": [
        "# latihan 6\n",
        "print(\"Elemen pada baris ke 2, kolom ke 4:\", matriks1 [1][3])"
      ],
      "metadata": {
        "colab": {
          "base_uri": "https://localhost:8080/"
        },
        "id": "v7ICgkmYeLGD",
        "outputId": "4d5ccc25-0394-4801-ff9e-05ccf19e0d6f"
      },
      "execution_count": null,
      "outputs": [
        {
          "output_type": "stream",
          "name": "stdout",
          "text": [
            "Elemen pada baris ke 2, kolom ke 4: 8\n"
          ]
        }
      ]
    },
    {
      "cell_type": "code",
      "source": [
        "# Menambahkan baris baru\n",
        "matriks.append([10, 11, 12])\n",
        "print(\"Array setelah menambahkan baris baru:\", matriks)\n",
        "\n",
        "# menambahkan elemen pada baris ke-2\\\n",
        "matriks[1].append(99)\n",
        "print(\"Array setelah menambahkan elemen pada baris ke-2:\", matriks)"
      ],
      "metadata": {
        "colab": {
          "base_uri": "https://localhost:8080/"
        },
        "id": "DwBITGpue1SU",
        "outputId": "6a19afc2-9c14-4697-83ed-3564342c0450"
      },
      "execution_count": null,
      "outputs": [
        {
          "output_type": "stream",
          "name": "stdout",
          "text": [
            "Array setelah menambahkan baris baru: [[1, 2, 3], [4, 5, 6], [7, 8, 9], [10, 11, 12]]\n",
            "Array setelah menambahkan elemen pada baris ke-2: [[1, 2, 3], [4, 5, 6, 99], [7, 8, 9], [10, 11, 12]]\n"
          ]
        }
      ]
    },
    {
      "cell_type": "code",
      "source": [
        "# latihan 7\n",
        "matriks1.append([3, 4, 5, 6])\n",
        "for baris in matriks1:\n",
        "    print(baris)"
      ],
      "metadata": {
        "colab": {
          "base_uri": "https://localhost:8080/"
        },
        "id": "ABddyInCg8N0",
        "outputId": "29c31d65-e6b7-49e3-ba34-ff4437feaa8d"
      },
      "execution_count": null,
      "outputs": [
        {
          "output_type": "stream",
          "name": "stdout",
          "text": [
            "[1, 2, 3, 4]\n",
            "[5, 6, 7, 8]\n",
            "[9, 10, 11, 12]\n",
            "[3, 4, 5, 6]\n"
          ]
        }
      ]
    },
    {
      "cell_type": "code",
      "source": [
        "# mengubah elemen pada baris ke-3, kolom ke-2\n",
        "matriks[2][2] = 88\n",
        "print(\"Array setelah mengubah elemen baris ke-3, kolom ke-2:\", matriks)"
      ],
      "metadata": {
        "colab": {
          "base_uri": "https://localhost:8080/"
        },
        "id": "DDlKIhNATPxC",
        "outputId": "20bd0be2-8ca4-4845-db49-955ec513fd16"
      },
      "execution_count": null,
      "outputs": [
        {
          "output_type": "stream",
          "name": "stdout",
          "text": [
            "Array setelah mengubah elemen baris ke-3, kolom ke-2: [[1, 2, 3], [4, 5, 6, 99], [7, 8, 88], [10, 11, 12]]\n"
          ]
        }
      ]
    },
    {
      "cell_type": "code",
      "source": [
        "# Deklarasi array 2D\n",
        "matriks = [\n",
        "    [1, 2, 3],\n",
        "    [4, 5, 6],\n",
        "    [7, 8, 9]\n",
        "]\n",
        "\n",
        "# menghapus elemen tertentu dari baris ke-1\n",
        "matriks[0].remove(2)\n",
        "print(\"Array setelah menghapus elemen pada baris ke-1:\", matriks)\n",
        "\n",
        "# menghapus elemen pada indeks tertentu dari baris ke-3\n",
        "matriks[1].pop(1)\n",
        "print(\"Array setelah menghapus elemen pada indeks ke-2 baris ke-3:\", matriks)"
      ],
      "metadata": {
        "colab": {
          "base_uri": "https://localhost:8080/"
        },
        "id": "-n_B-zSE8pbO",
        "outputId": "80f7fa2e-8dae-4678-8917-32b2edfea1b9"
      },
      "execution_count": null,
      "outputs": [
        {
          "output_type": "stream",
          "name": "stdout",
          "text": [
            "Array setelah menghapus elemen pada baris ke-1: [[1, 3], [4, 5, 6], [7, 8, 9]]\n",
            "Array setelah menghapus elemen pada indeks ke-2 baris ke-3: [[1, 3], [4, 6], [7, 8, 9]]\n"
          ]
        }
      ]
    },
    {
      "cell_type": "code",
      "source": [
        "# latihan 8\n",
        "# deklarasi array 2D\n",
        "matriks1 = [\n",
        "    [1, 2, 3, 4],\n",
        "    [5, 6, 7, 8],\n",
        "    [9, 10, 11, 12]\n",
        "]\n",
        "\n",
        "matriks1[-1].pop(3)\n",
        "print(\"Array setelah menghapus elemen pada baris terakhir:\", matriks1)"
      ],
      "metadata": {
        "colab": {
          "base_uri": "https://localhost:8080/"
        },
        "id": "gETKdOu1E5QO",
        "outputId": "f98e43a4-fb43-4fba-9611-4c3fc5dd2052"
      },
      "execution_count": null,
      "outputs": [
        {
          "output_type": "stream",
          "name": "stdout",
          "text": [
            "Array setelah menghapus elemen pada baris terakhir: [[1, 2, 3, 4], [5, 6, 7, 8], [9, 10, 11]]\n"
          ]
        }
      ]
    },
    {
      "cell_type": "code",
      "source": [
        "# latihan 9\n",
        "matriks1[-1][-1] = 13\n",
        "print(\"Array setelah mengubah elemen baris ke-4, kolom ke-4:\", matriks1)"
      ],
      "metadata": {
        "colab": {
          "base_uri": "https://localhost:8080/"
        },
        "id": "piB4Ol_PTv0d",
        "outputId": "4ba6c05f-3428-497a-ea6c-c71499afe5cf"
      },
      "execution_count": null,
      "outputs": [
        {
          "output_type": "stream",
          "name": "stdout",
          "text": [
            "Array setelah mengubah elemen baris ke-4, kolom ke-4: [[1, 2, 3, 4], [5, 6, 7, 8], [9, 10, 11, 12], [3, 4, 5, 13]]\n"
          ]
        }
      ]
    },
    {
      "cell_type": "code",
      "source": [
        "belanja = [\"beras\", \"gula\", \"minyak\"]\n",
        "belanja.append(\"teh\")\n",
        "belanja.remove(\"gula\")\n",
        "print(\"Daftar belnja terbaru:\", belanja)"
      ],
      "metadata": {
        "id": "bnvrLsDjUb_z",
        "colab": {
          "base_uri": "https://localhost:8080/"
        },
        "outputId": "08395b4a-c276-4e7c-aa22-d4e022f96d4f"
      },
      "execution_count": null,
      "outputs": [
        {
          "output_type": "stream",
          "name": "stdout",
          "text": [
            "Daftar belnja terbaru: ['beras', 'minyak', 'teh']\n"
          ]
        }
      ]
    },
    {
      "cell_type": "code",
      "source": [
        "# latihan 10\n",
        "belanja = [\"PC jeno\", \"PC jaehyun\", \"LIght stick nct dream\", \"tiket tds\"]\n",
        "belanja.append(\"tiket momentum\")\n",
        "belanja.remove(\"PC jaehyun\")\n",
        "print(\"Daftar belanja terbaru:\", belanja)"
      ],
      "metadata": {
        "colab": {
          "base_uri": "https://localhost:8080/"
        },
        "id": "tPNftXQc096L",
        "outputId": "f7b000eb-8d55-48ce-b075-4c6409e11f14"
      },
      "execution_count": null,
      "outputs": [
        {
          "output_type": "stream",
          "name": "stdout",
          "text": [
            "Daftar belanja terbaru: ['PC jeno', 'LIght stick nct dream', 'tiket tds', 'tiket momentum']\n"
          ]
        }
      ]
    }
  ]
}